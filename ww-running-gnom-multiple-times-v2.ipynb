{
 "cells": [
  {
   "cell_type": "markdown",
   "metadata": {},
   "source": [
    "# Importando as bibliotecas de trabalho"
   ]
  },
  {
   "cell_type": "code",
   "execution_count": 1,
   "metadata": {
    "collapsed": true
   },
   "outputs": [],
   "source": [
    "import os\n",
    "import pyautogui\n",
    "import pynput\n",
    "import time\n",
    "import sys\n",
    "import itertools\n",
    "from glob import glob\n",
    "import shutil"
   ]
  },
  {
   "cell_type": "markdown",
   "metadata": {},
   "source": [
    "# Lendo o diretório e filtrando apenas os arquivos com extensão .RSR"
   ]
  },
  {
   "cell_type": "code",
   "execution_count": 21,
   "metadata": {},
   "outputs": [
    {
     "data": {
      "text/plain": [
       "'FF-REF-SC-+010-R.RSR'"
      ]
     },
     "execution_count": 21,
     "metadata": {},
     "output_type": "execute_result"
    }
   ],
   "source": [
    "# lendo o diretorio de trabalho\n",
    "path=os.getcwd()\n",
    "# gerando a lista de arquivos no diretorio\n",
    "files=os.listdir(path)\n",
    "# filtrando apenas os arquivos com extensão .RSR\n",
    "rsr_files=[f for f in files if f.endswith('.RSR')]\n",
    "rsr_files[3]"
   ]
  },
  {
   "cell_type": "code",
   "execution_count": 3,
   "metadata": {},
   "outputs": [
    {
     "data": {
      "text/plain": [
       "'B'"
      ]
     },
     "execution_count": 3,
     "metadata": {},
     "output_type": "execute_result"
    }
   ],
   "source": [
    "#obtendo o caractere para gerar o arquivo de saída\n",
    "out_name=rsr_files[0].split(\"-\")[-1][0]\n",
    "out_name"
   ]
  },
  {
   "cell_type": "markdown",
   "metadata": {},
   "source": [
    "# Lista de diametros a serem testados para gerar  as $p(r)$"
   ]
  },
  {
   "cell_type": "code",
   "execution_count": 4,
   "metadata": {},
   "outputs": [
    {
     "data": {
      "text/plain": [
       "40"
      ]
     },
     "execution_count": 4,
     "metadata": {},
     "output_type": "execute_result"
    }
   ],
   "source": [
    "rmin=60\n",
    "rmax=260\n",
    "stp=5\n",
    "dd=[s for s in range(rmin,rmax,stp)]\n",
    "len(dd)"
   ]
  },
  {
   "cell_type": "markdown",
   "metadata": {},
   "source": [
    "# Movendo o mouse para o console"
   ]
  },
  {
   "cell_type": "code",
   "execution_count": 5,
   "metadata": {
    "collapsed": true
   },
   "outputs": [],
   "source": [
    "#terminal=\"konsole\"\n",
    "#app=os.system(terminal)\n",
    "wait1=time.sleep(2)\n",
    "#mt=pyautogui.position()\n",
    "mt=[769,85]\n",
    "mb=[769,678]"
   ]
  },
  {
   "cell_type": "markdown",
   "metadata": {},
   "source": [
    "# Executando o Gnom em loop para vários valores de $r$"
   ]
  },
  {
   "cell_type": "code",
   "execution_count": 6,
   "metadata": {
    "collapsed": true
   },
   "outputs": [],
   "source": [
    "for n in range(len(rsr_files)):\n",
    "    for k in range(len(dd)):\n",
    "        mv_mouse=pyautogui.moveTo(mt[0],mt[1])\n",
    "        mouse_click=pyautogui.click(mt[0],mt[1])\n",
    "        software='gnom'\n",
    "        pyautogui.typewrite(software)\n",
    "        pyautogui.press('enter')\n",
    "        pyautogui.press('enter')\n",
    "        pyautogui.typewrite(str(rsr_files[n]))\n",
    "        pyautogui.press('enter')\n",
    "        pyautogui.press('enter')\n",
    "        pyautogui.press('enter')\n",
    "        pyautogui.press('enter')\n",
    "        pyautogui.press('enter')\n",
    "        pyautogui.press('enter')\n",
    "        pyautogui.typewrite(str(dd[k]))\n",
    "        pyautogui.press('enter')\n",
    "        pyautogui.press('enter')\n",
    "        pyautogui.press('enter')\n",
    "        pyautogui.press('enter')\n",
    "        pyautogui.press('enter')\n",
    "        pyautogui.typewrite(str(rsr_files[n].split(\"-\")[-1][0])+str(k)+\".out\")    \n",
    "        pyautogui.press('enter')"
   ]
  },
  {
   "cell_type": "raw",
   "metadata": {},
   "source": [
    "#  criando nomes para os diretorios de log\n",
    "#name=[]\n",
    "#for i in range(4):\n",
    "#    n=folder_names[i].split(\"-\")[-1][0]\n",
    "#    name.append(n)\n",
    "#name\n",
    "#  criando os diretorios de log"
   ]
  },
  {
   "cell_type": "markdown",
   "metadata": {},
   "source": [
    "# Lendo todos os arquivos de saída e criando pastas de registro"
   ]
  },
  {
   "cell_type": "code",
   "execution_count": 32,
   "metadata": {},
   "outputs": [],
   "source": [
    "# lendo o diretorio de trabalho\n",
    "path=os.getcwd()\n",
    "# gerando a lista de arquivos no diretorio\n",
    "new_files=os.listdir(path)\n",
    "# filtrando apenas os arquivos com extensão .out\n",
    "out_files=[f for f in new_files if f.endswith('.out')]\n",
    "#  criando nomes para os diretorios de log\n",
    "folder_names=[i for i in rsr_files]#rsr_files[i].split(\"-\")[-1][0]\n",
    "#  criando os diretorios de log\n",
    "dirs = [os.mkdir(folder_names[i].split(\"-\")[-1][0]) for i in range(4)]"
   ]
  },
  {
   "cell_type": "markdown",
   "metadata": {},
   "source": [
    "# Movendo todos os arquivos do tipo '*.out' para pastas de registros"
   ]
  },
  {
   "cell_type": "code",
   "execution_count": 44,
   "metadata": {},
   "outputs": [],
   "source": [
    "n=len(out_files)\n",
    "i=0\n",
    "for i in range(n):\n",
    "    for j in range(4):\n",
    "        if out_files[i][0] == folder_names[j].split(\"-\")[-1][0]:\n",
    "            shutil.move(out_files[i], folder_names[j].split(\"-\")[-1][0]+'/')\n",
    "    n=n-1    "
   ]
  },
  {
   "cell_type": "raw",
   "metadata": {},
   "source": [
    "# Snippet for moving files to list of directories\n",
    "'''files = [\"file1\",\"file2\",\"file3\",\"file4\"]\n",
    "folders = [\"folder1\",\"folder2\"]\n",
    "for file, folder in zip(files, itertools.cycle(folders)):\n",
    "    print(\"move {} to {}\".format(file, folder)) '''"
   ]
  }
 ],
 "metadata": {
  "kernelspec": {
   "display_name": "Python 3",
   "language": "python",
   "name": "python3"
  },
  "language_info": {
   "codemirror_mode": {
    "name": "ipython",
    "version": 3
   },
   "file_extension": ".py",
   "mimetype": "text/x-python",
   "name": "python",
   "nbconvert_exporter": "python",
   "pygments_lexer": "ipython3",
   "version": "3.6.1"
  }
 },
 "nbformat": 4,
 "nbformat_minor": 2
}
